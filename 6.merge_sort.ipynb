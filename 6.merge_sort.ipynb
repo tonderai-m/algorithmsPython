{
 "cells": [
  {
   "cell_type": "markdown",
   "metadata": {},
   "source": [
    "luckily merge sort is recursive basically we can break the list into it's last two elements which are already sorted. Merge is use to combine already sorted columns it should be called sort and merge algorithm sort first and then use the merge function. Merge function is basically compering the first element to the first element of the other set. "
   ]
  },
  {
   "cell_type": "code",
   "execution_count": 1,
   "metadata": {},
   "outputs": [],
   "source": [
    "a = [80,58,89,4,6,7,8,90,89,0,6,7,3,4,97]"
   ]
  },
  {
   "cell_type": "code",
   "execution_count": 2,
   "metadata": {},
   "outputs": [],
   "source": [
    "def merge_sort(A):\n",
    "    if len(A) < 2: return \n",
    "    A1 = A[:len(A)//2]\n",
    "    A2 = A[len(A)//2:]\n",
    "\n",
    "\n",
    "    merge_sort(A1)\n",
    "    merge_sort(A2)\n",
    "    del A[:]\n",
    "    while len(A1) + len(A2) > 0:\n",
    "        if len(A2) == 0 or (len(A1)> 0 and A1[0] < A2[0]):\n",
    "            A.append(A1.pop(0))\n",
    "        else: A.append(A2.pop(0))"
   ]
  },
  {
   "cell_type": "code",
   "execution_count": 3,
   "metadata": {},
   "outputs": [
    {
     "name": "stdout",
     "output_type": "stream",
     "text": [
      "[0, 3, 4, 4, 6, 6, 7, 7, 8, 58, 80, 89, 89, 90, 97]\n"
     ]
    }
   ],
   "source": [
    "merge_sort(a)\n",
    "print(a)"
   ]
  }
 ],
 "metadata": {
  "kernelspec": {
   "display_name": "Python 3",
   "language": "python",
   "name": "python3"
  },
  "language_info": {
   "codemirror_mode": {
    "name": "ipython",
    "version": 3
   },
   "file_extension": ".py",
   "mimetype": "text/x-python",
   "name": "python",
   "nbconvert_exporter": "python",
   "pygments_lexer": "ipython3",
   "version": "3.11.5"
  }
 },
 "nbformat": 4,
 "nbformat_minor": 2
}
