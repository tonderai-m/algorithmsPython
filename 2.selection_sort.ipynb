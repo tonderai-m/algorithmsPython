{
 "cells": [
  {
   "cell_type": "markdown",
   "metadata": {},
   "source": [
    "Selection sort you don't care too much about i but sorting a matrix from left to right or right to left for instance if you have [8,5,....n-1,n] you would sort 8, 5 to 5,8 if you sorting from smallest to largest. "
   ]
  },
  {
   "cell_type": "code",
   "execution_count": 1,
   "metadata": {},
   "outputs": [],
   "source": [
    "a = [80,58,89,4,6,7,8,90,89,0,6,7,3,4,97]"
   ]
  },
  {
   "cell_type": "code",
   "execution_count": 2,
   "metadata": {},
   "outputs": [],
   "source": [
    "def selection_sort(new):\n",
    "    for i in range(1,len(new)):\n",
    "        for j in range(len(new)-i):\n",
    "            if new[j + 1] < new[j]:\n",
    "                new[j+1], new[j] = new[j], new[j+1]"
   ]
  },
  {
   "cell_type": "code",
   "execution_count": 3,
   "metadata": {},
   "outputs": [
    {
     "name": "stdout",
     "output_type": "stream",
     "text": [
      "[0, 3, 4, 4, 6, 6, 7, 7, 8, 58, 80, 89, 89, 90, 97]\n"
     ]
    }
   ],
   "source": [
    "selection_sort(a)\n",
    "print(a)"
   ]
  }
 ],
 "metadata": {
  "kernelspec": {
   "display_name": "my_venv",
   "language": "python",
   "name": "python3"
  },
  "language_info": {
   "codemirror_mode": {
    "name": "ipython",
    "version": 3
   },
   "file_extension": ".py",
   "mimetype": "text/x-python",
   "name": "python",
   "nbconvert_exporter": "python",
   "pygments_lexer": "ipython3",
   "version": "3.11.5"
  }
 },
 "nbformat": 4,
 "nbformat_minor": 2
}
