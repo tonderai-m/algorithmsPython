{
 "cells": [
  {
   "cell_type": "markdown",
   "metadata": {},
   "source": [
    "There are many instances to use recursion and recursive calls will stick to the two fundamental ones the first one is to use factorial n! can be used for permutations and combinations, and the second is to use the Fibonacci series"
   ]
  },
  {
   "cell_type": "markdown",
   "metadata": {},
   "source": [
    "n factorial using iteration "
   ]
  },
  {
   "cell_type": "code",
   "execution_count": 1,
   "metadata": {},
   "outputs": [],
   "source": [
    "def iter_factorial(x):\n",
    "    v = 1\n",
    "    #  the factorial of 0 is equal to 1 \n",
    "    if x == 0: \n",
    "          v = 1\n",
    "    for i in range(1,x+1):\n",
    "            v *= i\n",
    "            print(f\"{i}! is equal to\",v)"
   ]
  },
  {
   "cell_type": "code",
   "execution_count": 2,
   "metadata": {},
   "outputs": [
    {
     "name": "stdout",
     "output_type": "stream",
     "text": [
      "1! is equal to 1\n",
      "2! is equal to 2\n",
      "3! is equal to 6\n",
      "4! is equal to 24\n",
      "5! is equal to 120\n",
      "6! is equal to 720\n",
      "7! is equal to 5040\n"
     ]
    }
   ],
   "source": [
    "iter_factorial(7)"
   ]
  },
  {
   "cell_type": "code",
   "execution_count": 3,
   "metadata": {},
   "outputs": [],
   "source": [
    "def recursive_factorial(x):\n",
    "    if x < 1:\n",
    "        return 1 \n",
    "    return recursive_factorial(x - 1) * x"
   ]
  },
  {
   "cell_type": "code",
   "execution_count": 4,
   "metadata": {},
   "outputs": [
    {
     "data": {
      "text/plain": [
       "720"
      ]
     },
     "execution_count": 4,
     "metadata": {},
     "output_type": "execute_result"
    }
   ],
   "source": [
    "recursive_factorial(6)"
   ]
  }
 ],
 "metadata": {
  "kernelspec": {
   "display_name": "Python 3",
   "language": "python",
   "name": "python3"
  },
  "language_info": {
   "codemirror_mode": {
    "name": "ipython",
    "version": 3
   },
   "file_extension": ".py",
   "mimetype": "text/x-python",
   "name": "python",
   "nbconvert_exporter": "python",
   "pygments_lexer": "ipython3",
   "version": "3.11.5"
  }
 },
 "nbformat": 4,
 "nbformat_minor": 2
}
