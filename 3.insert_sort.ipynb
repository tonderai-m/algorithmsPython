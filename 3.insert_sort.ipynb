{
 "cells": [
  {
   "cell_type": "markdown",
   "metadata": {},
   "source": [
    "To explain this you have to understand that an array is dynamic meaning if you change it the whole array changes and when you reference something that has been change the value is different insert sort is basically holding a value in memory and shifting the array to the left or right based on the writers discretion and then replacing the copied value as the last element copy first shift and then replace in that order. copy > sift > replace "
   ]
  },
  {
   "cell_type": "code",
   "execution_count": 1,
   "metadata": {},
   "outputs": [],
   "source": [
    "a = [80,58,89,4,6,7,8,90,89,0,6,7,3,4,97,7888,-8,9,0,1]"
   ]
  },
  {
   "cell_type": "code",
   "execution_count": 2,
   "metadata": {},
   "outputs": [],
   "source": [
    "def insert_sort(A):\n",
    "    for i in range(1,len(A)): \n",
    "        k = A[i] #saves it in memory \n",
    "        j = i - 1\n",
    "        # shift \n",
    "        while j >= 0 and  k < A[j]:\n",
    "            A[j + 1] = A[j] #shifts and copies value essentially 2 copies of old number\n",
    "            j -= 1\n",
    "        A[j+1] = k #Old number replaced with new one j loses connection to i in the process "
   ]
  },
  {
   "cell_type": "code",
   "execution_count": 3,
   "metadata": {},
   "outputs": [
    {
     "name": "stdout",
     "output_type": "stream",
     "text": [
      "[-8, 0, 0, 1, 3, 4, 4, 6, 6, 7, 7, 8, 9, 58, 80, 89, 89, 90, 97, 7888]\n"
     ]
    }
   ],
   "source": [
    "insert_sort(a)\n",
    "print(a)"
   ]
  }
 ],
 "metadata": {
  "kernelspec": {
   "display_name": "my_venv",
   "language": "python",
   "name": "python3"
  },
  "language_info": {
   "codemirror_mode": {
    "name": "ipython",
    "version": 3
   },
   "file_extension": ".py",
   "mimetype": "text/x-python",
   "name": "python",
   "nbconvert_exporter": "python",
   "pygments_lexer": "ipython3",
   "version": "3.11.5"
  }
 },
 "nbformat": 4,
 "nbformat_minor": 2
}
