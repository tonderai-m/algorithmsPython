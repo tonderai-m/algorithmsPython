{
 "cells": [
  {
   "cell_type": "markdown",
   "metadata": {},
   "source": [
    "Getting Max and min boils down to 2 recursion cases if we break down a set into base pairs will be left with complete sets of 2s if even and sets of 2s and a set of one.\n",
    "we need the 2 cases"
   ]
  },
  {
   "cell_type": "code",
   "execution_count": 1,
   "metadata": {},
   "outputs": [],
   "source": [
    "a = [80,58,89,4,6,7,8,90,89,0,6,7,3,4,97,7888,-8,9,0,1]"
   ]
  },
  {
   "cell_type": "code",
   "execution_count": 2,
   "metadata": {},
   "outputs": [],
   "source": [
    "def find_max_min(arr):\n",
    "    # First recursion case when there is only one element\n",
    "    if len(arr) < 2:\n",
    "        return arr[0], arr[0]\n",
    "    # Second recursion case when there are two elements in a set\n",
    "    if len(arr) == 2:\n",
    "        if arr[0] > arr[1]:\n",
    "            min_val, max_val = arr[0], arr[1]\n",
    "        else:\n",
    "            min_val, max_val = arr[1], arr[0]\n",
    "        return min_val, max_val\n",
    "    \n",
    "    # binary splitting \n",
    "    arr1 = arr[:len(arr)//2]\n",
    "    arr2 = arr[len(arr)//2:]\n",
    "    \n",
    "    # return values for max and min \n",
    "    max1, min1 = find_max_min(arr1)\n",
    "    max2, min2 = find_max_min(arr2)\n",
    "\n",
    "   # Check which element between the 2 halves which is bigger or smaller for min and max values \n",
    "    if max1 > max2:\n",
    "        max_val = max1\n",
    "    else:\n",
    "        max_val = max2 \n",
    "    \n",
    "    if min1 < min2 : \n",
    "        min_val = min1\n",
    "    else:\n",
    "        min_val = min2\n",
    "\n",
    "    return max_val, min_val\n"
   ]
  },
  {
   "cell_type": "code",
   "execution_count": 3,
   "metadata": {},
   "outputs": [
    {
     "data": {
      "text/plain": [
       "(7888, -8)"
      ]
     },
     "execution_count": 3,
     "metadata": {},
     "output_type": "execute_result"
    }
   ],
   "source": [
    "find_max_min(a)"
   ]
  },
  {
   "cell_type": "code",
   "execution_count": 4,
   "metadata": {},
   "outputs": [
    {
     "data": {
      "text/plain": [
       "(0, 0)"
      ]
     },
     "execution_count": 4,
     "metadata": {},
     "output_type": "execute_result"
    }
   ],
   "source": [
    "find_max_min([0])"
   ]
  },
  {
   "cell_type": "code",
   "execution_count": 5,
   "metadata": {},
   "outputs": [
    {
     "data": {
      "text/plain": [
       "(9, -89)"
      ]
     },
     "execution_count": 5,
     "metadata": {},
     "output_type": "execute_result"
    }
   ],
   "source": [
    "find_max_min([7,9,0,8,-89])"
   ]
  }
 ],
 "metadata": {
  "kernelspec": {
   "display_name": "my_venv",
   "language": "python",
   "name": "python3"
  },
  "language_info": {
   "codemirror_mode": {
    "name": "ipython",
    "version": 3
   },
   "file_extension": ".py",
   "mimetype": "text/x-python",
   "name": "python",
   "nbconvert_exporter": "python",
   "pygments_lexer": "ipython3",
   "version": "3.11.5"
  }
 },
 "nbformat": 4,
 "nbformat_minor": 2
}
