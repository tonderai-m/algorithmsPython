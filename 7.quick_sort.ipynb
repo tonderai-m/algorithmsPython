{
 "cells": [
  {
   "cell_type": "markdown",
   "metadata": {},
   "source": [
    "quick sort is doesn't actually cut the data in half the idea is to pivot each ith row until it gets into position. Once a pivot is set the pivot moves to the next element. Setting a pivot is when an ith element is in it natural position regardless of the sorted-ness of the data meaning only the pivots are in their sorted positions. "
   ]
  },
  {
   "cell_type": "code",
   "execution_count": 1,
   "metadata": {},
   "outputs": [],
   "source": [
    "a = [80,58,89,4,6,7,8,90,89,0,6,7,3,4,97]"
   ]
  },
  {
   "cell_type": "code",
   "execution_count": 2,
   "metadata": {},
   "outputs": [],
   "source": [
    "def quick_sort(A):\n",
    "    if len(A) < 2: \n",
    "        return A\n",
    "    pivot = A[0] # can be any element I just chose the fist one \n",
    "    above_pivot = []\n",
    "    below_pivot = []\n",
    "\n",
    "    for i in range(1,len(A)):\n",
    "        if pivot < A[i]:\n",
    "            above_pivot.append(A[i])\n",
    "        else: \n",
    "            below_pivot.append(A[i])\n",
    "\n",
    "    return  quick_sort(below_pivot) + [pivot] + quick_sort(above_pivot)\n"
   ]
  },
  {
   "cell_type": "code",
   "execution_count": 3,
   "metadata": {},
   "outputs": [
    {
     "name": "stdout",
     "output_type": "stream",
     "text": [
      "[0, 3, 4, 4, 6, 6, 7, 7, 8, 58, 80, 89, 89, 90, 97]\n"
     ]
    }
   ],
   "source": [
    "print(quick_sort(a))"
   ]
  },
  {
   "cell_type": "code",
   "execution_count": 4,
   "metadata": {},
   "outputs": [
    {
     "name": "stdout",
     "output_type": "stream",
     "text": [
      "[1, 6]\n"
     ]
    }
   ],
   "source": [
    "print(quick_sort([6,1]))"
   ]
  },
  {
   "cell_type": "code",
   "execution_count": 5,
   "metadata": {},
   "outputs": [
    {
     "name": "stdout",
     "output_type": "stream",
     "text": [
      "[1, 2, 6]\n"
     ]
    }
   ],
   "source": [
    "print(quick_sort([2,6,1]))"
   ]
  }
 ],
 "metadata": {
  "kernelspec": {
   "display_name": "Python 3",
   "language": "python",
   "name": "python3"
  },
  "language_info": {
   "codemirror_mode": {
    "name": "ipython",
    "version": 3
   },
   "file_extension": ".py",
   "mimetype": "text/x-python",
   "name": "python",
   "nbconvert_exporter": "python",
   "pygments_lexer": "ipython3",
   "version": "3.11.5"
  }
 },
 "nbformat": 4,
 "nbformat_minor": 2
}
