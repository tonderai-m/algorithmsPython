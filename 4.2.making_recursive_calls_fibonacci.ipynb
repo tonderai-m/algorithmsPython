{
 "cells": [
  {
   "cell_type": "markdown",
   "metadata": {},
   "source": [
    "Continuing from factorial basically here in this fibonacci series we start from 0 is the first element and 1 is the second element and 0 + 1 is the 3 element which is 1 the first 5 series of the fibonacci are 0, 1, 1, 2, 3"
   ]
  },
  {
   "cell_type": "code",
   "execution_count": 1,
   "metadata": {},
   "outputs": [],
   "source": [
    "def iter_fibonacci(x):\n",
    "    a, b = 0, 1\n",
    "    for i in range(x):\n",
    "        print(f\"{i} fibonacci is\",a)\n",
    "        a, b = b, b + a\n",
    "\n"
   ]
  },
  {
   "cell_type": "code",
   "execution_count": 2,
   "metadata": {},
   "outputs": [
    {
     "name": "stdout",
     "output_type": "stream",
     "text": [
      "0 fibonacci is 0\n",
      "1 fibonacci is 1\n",
      "2 fibonacci is 1\n",
      "3 fibonacci is 2\n",
      "4 fibonacci is 3\n",
      "5 fibonacci is 5\n",
      "6 fibonacci is 8\n",
      "7 fibonacci is 13\n",
      "8 fibonacci is 21\n",
      "9 fibonacci is 34\n"
     ]
    }
   ],
   "source": [
    "iter_fibonacci(10)"
   ]
  },
  {
   "cell_type": "code",
   "execution_count": 3,
   "metadata": {},
   "outputs": [],
   "source": [
    "def recursive_fibonacci(x):\n",
    "    if x < 1: \n",
    "        return 0\n",
    "    if x == 1:\n",
    "        return 1 \n",
    "    return recursive_fibonacci(x - 1) + recursive_fibonacci(x - 2)"
   ]
  },
  {
   "cell_type": "code",
   "execution_count": 4,
   "metadata": {},
   "outputs": [
    {
     "data": {
      "text/plain": [
       "3"
      ]
     },
     "execution_count": 4,
     "metadata": {},
     "output_type": "execute_result"
    }
   ],
   "source": [
    "recursive_fibonacci(4)"
   ]
  },
  {
   "cell_type": "code",
   "execution_count": 5,
   "metadata": {},
   "outputs": [
    {
     "data": {
      "text/plain": [
       "34"
      ]
     },
     "execution_count": 5,
     "metadata": {},
     "output_type": "execute_result"
    }
   ],
   "source": [
    "recursive_fibonacci(9)"
   ]
  }
 ],
 "metadata": {
  "kernelspec": {
   "display_name": "Python 3",
   "language": "python",
   "name": "python3"
  },
  "language_info": {
   "codemirror_mode": {
    "name": "ipython",
    "version": 3
   },
   "file_extension": ".py",
   "mimetype": "text/x-python",
   "name": "python",
   "nbconvert_exporter": "python",
   "pygments_lexer": "ipython3",
   "version": "3.11.5"
  }
 },
 "nbformat": 4,
 "nbformat_minor": 2
}
